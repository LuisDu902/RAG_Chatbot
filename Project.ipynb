{
 "cells": [
  {
   "cell_type": "markdown",
   "metadata": {},
   "source": [
    "# Building RAG Chatbots for Technical Documentation\n",
    "\n",
    "## Table of contents\n",
    "\n",
    "- [Introduction](#introduction)\n",
    "- [Environment Setup](#environment-setup)\n",
    "- [Load and split the document](#load-and-split-the-document)\n",
    "- [Generate and store the embeddings](#generate-and-store-the-embeddings)"
   ]
  },
  {
   "cell_type": "markdown",
   "metadata": {},
   "source": [
    "## Introduction \n",
    "\n",
    "This project involves implementing a retrieval augmented generation (RAG) with `LangChain` to create a chatbot for\n",
    "answering questions about technical documentation. The document chosen for this assignment was the following: The European Union Medical Device Regulation - Regulation (EU) 2017/745 (EU MDR). "
   ]
  },
  {
   "cell_type": "markdown",
   "metadata": {},
   "source": [
    "## Environment Setup\n",
    "\n",
    "Install the packages and dependencies to be used:"
   ]
  },
  {
   "cell_type": "code",
   "execution_count": 1,
   "metadata": {},
   "outputs": [
    {
     "name": "stdout",
     "output_type": "stream",
     "text": [
      "Note: you may need to restart the kernel to use updated packages.\n"
     ]
    }
   ],
   "source": [
    "# install langchain\n",
    "%pip install -qU langchain langchain-community langchain-chroma langchain-text-splitters unstructured sentence_transformers langchain-huggingface"
   ]
  },
  {
   "cell_type": "markdown",
   "metadata": {},
   "source": [
    "## Load and split the document"
   ]
  },
  {
   "cell_type": "code",
   "execution_count": 2,
   "metadata": {},
   "outputs": [
    {
     "name": "stdout",
     "output_type": "stream",
     "text": [
      "{'source': 'document.html', 'start_index': 763}\n",
      "\n",
      "After consulting the Committee of the Regions,\n",
      "\n",
      "Acting in accordance with the ordinary legislative procedure (2),\n",
      "\n",
      "Whereas:\n",
      "\n",
      "(1) Council Directive 90/385/EEC ( 3 ) and Council Directive 93/42/EEC ( 4 ) constitute the Union regulatory framework for medical devices, other than in vitro diagnostic medical devices. However, a fundamental revision of those Directives is needed to establish a robust, transparent, predictable and sustainable regulatory framework for medical devices which ensures a high level of safety and health whilst supporting innovation.\n",
      "853\n"
     ]
    }
   ],
   "source": [
    "from langchain_text_splitters import RecursiveCharacterTextSplitter\n",
    "from langchain_community.document_loaders import UnstructuredHTMLLoader\n",
    "\n",
    "file_path = \"document.html\"\n",
    "\n",
    "loader = UnstructuredHTMLLoader(file_path)\n",
    "text_splitter = RecursiveCharacterTextSplitter(\n",
    "    chunk_size=1000, chunk_overlap=200, add_start_index=True\n",
    ")\n",
    "docs = loader.load_and_split(text_splitter)\n",
    "\n",
    "print(f\"{docs[1].metadata}\\n\")\n",
    "print(docs[1].page_content)\n",
    "print(len(docs))\n",
    "\n"
   ]
  },
  {
   "cell_type": "markdown",
   "metadata": {},
   "source": [
    "## Generate and store the embeddings"
   ]
  },
  {
   "cell_type": "code",
   "execution_count": 3,
   "metadata": {},
   "outputs": [
    {
     "name": "stderr",
     "output_type": "stream",
     "text": [
      "c:\\Users\\Athos\\anaconda3\\envs\\TAAC_proj1\\Lib\\site-packages\\sentence_transformers\\cross_encoder\\CrossEncoder.py:13: TqdmExperimentalWarning: Using `tqdm.autonotebook.tqdm` in notebook mode. Use `tqdm.tqdm` instead to force console mode (e.g. in jupyter console)\n",
      "  from tqdm.autonotebook import tqdm, trange\n",
      "c:\\Users\\Athos\\anaconda3\\envs\\TAAC_proj1\\Lib\\site-packages\\transformers\\tokenization_utils_base.py:1617: FutureWarning: `clean_up_tokenization_spaces` was not set. It will be set to `True` by default. This behavior will be deprecated in transformers v4.45, and will be then set to `False` by default. For more details check this issue: https://github.com/huggingface/transformers/issues/31884\n",
      "  warnings.warn(\n"
     ]
    }
   ],
   "source": [
    "# Generate and store the embeddings\n",
    "from langchain_chroma import Chroma\n",
    "from langchain_huggingface.embeddings import HuggingFaceEmbeddings\n",
    "\n",
    "embeddings = HuggingFaceEmbeddings(model_name=\"sentence-transformers/all-mpnet-base-v2\")\n",
    "\n",
    "vectorstore = Chroma.from_documents(documents=docs, embedding=embeddings)\n",
    "\n"
   ]
  },
  {
   "cell_type": "markdown",
   "metadata": {},
   "source": [
    " ## Retrieve\n"
   ]
  },
  {
   "cell_type": "code",
   "execution_count": 7,
   "metadata": {},
   "outputs": [
    {
     "name": "stdout",
     "output_type": "stream",
     "text": [
      "The first subparagraph shall also apply to system or process requirements to be fulfilled in accordance with this Regulation by economic operators or sponsors, including those relating to quality management systems, risk management, post-market surveillance systems, clinical investigations, clinical evaluation or post-market clinical follow-up (‘PMCF’).\n",
      "\n",
      "References in this Regulation to harmonised standards shall be understood as meaning harmonised standards the references of which have been published in the Official Journal of the European Union.\n"
     ]
    }
   ],
   "source": [
    "retriever = vectorstore.as_retriever(search_type=\"similarity\", search_kwargs={\"k\": 6})\n",
    "\n",
    "retrieved_docs = retriever.invoke(\"Describe the use harmonized standards\")\n",
    "\n",
    "len(retrieved_docs)\n",
    "\n",
    "print(retrieved_docs[0].page_content)"
   ]
  },
  {
   "cell_type": "markdown",
   "metadata": {},
   "source": [
    "## LLM"
   ]
  },
  {
   "cell_type": "code",
   "execution_count": 10,
   "metadata": {},
   "outputs": [
    {
     "name": "stderr",
     "output_type": "stream",
     "text": [
      "c:\\Users\\Athos\\anaconda3\\envs\\TAAC_proj1\\Lib\\site-packages\\transformers\\tokenization_utils_base.py:1617: FutureWarning: `clean_up_tokenization_spaces` was not set. It will be set to `True` by default. This behavior will be deprecated in transformers v4.45, and will be then set to `False` by default. For more details check this issue: https://github.com/huggingface/transformers/issues/31884\n",
      "  warnings.warn(\n",
      "Truncation was not explicitly activated but `max_length` is provided a specific value, please use `truncation=True` to explicitly truncate examples to max length. Defaulting to 'longest_first' truncation strategy. If you encode pairs of sequences (GLUE-style) with the tokenizer you can select this strategy more precisely by providing a specific strategy to `truncation`.\n",
      "Setting `pad_token_id` to `eos_token_id`:None for open-end generation.\n"
     ]
    },
    {
     "data": {
      "text/plain": [
       "[{'generated_text': \"Hello, I'm a language model, but what I'm really doing is making a human-readable document. There are other languages, but those are\"},\n",
       " {'generated_text': \"Hello, I'm a language model, not a syntax model. That's why I like it. I've done a lot of programming projects.\\n\"},\n",
       " {'generated_text': \"Hello, I'm a language model, and I'll do it in no time!\\n\\nOne of the things we learned from talking to my friend\"},\n",
       " {'generated_text': \"Hello, I'm a language model, not a command line tool.\\n\\nIf my code is simple enough:\\n\\nif (use (string\"},\n",
       " {'generated_text': \"Hello, I'm a language model, I've been using Language in all my work. Just a small example, let's see a simplified example.\"}]"
      ]
     },
     "execution_count": 10,
     "metadata": {},
     "output_type": "execute_result"
    }
   ],
   "source": [
    "from transformers import pipeline, set_seed\n",
    "generator = pipeline('text-generation', model='gpt2')\n",
    "set_seed(42)\n",
    "generator(\"Hello, I'm a language model,\", max_length=30, num_return_sequences=5)\n"
   ]
  },
  {
   "cell_type": "markdown",
   "metadata": {},
   "source": [
    "## Generate"
   ]
  },
  {
   "cell_type": "code",
   "execution_count": 8,
   "metadata": {},
   "outputs": [
    {
     "name": "stderr",
     "output_type": "stream",
     "text": [
      "c:\\Users\\Athos\\anaconda3\\envs\\TAAC_proj1\\Lib\\site-packages\\langsmith\\client.py:354: LangSmithMissingAPIKeyWarning: API key must be provided when using hosted LangSmith API\n",
      "  warnings.warn(\n"
     ]
    },
    {
     "name": "stdout",
     "output_type": "stream",
     "text": [
      "You are an assistant for question-answering tasks. Use the following pieces of retrieved context to answer the question. If you don't know the answer, just say that you don't know. Use three sentences maximum and keep the answer concise.\n",
      "Question: filler question \n",
      "Context: filler context \n",
      "Answer:\n"
     ]
    }
   ],
   "source": [
    "from langchain import hub\n",
    "\n",
    "prompt = hub.pull(\"rlm/rag-prompt\")\n",
    "\n",
    "example_messages = prompt.invoke(\n",
    "    {\"context\": \"filler context\", \"question\": \"filler question\"}\n",
    ").to_messages()\n",
    "example_messages\n",
    "\n",
    "print(example_messages[0].content)"
   ]
  },
  {
   "cell_type": "code",
   "execution_count": 26,
   "metadata": {},
   "outputs": [
    {
     "data": {
      "text/plain": [
       "ChatPromptValue(messages=[HumanMessage(content=\"You are an assistant for question-answering tasks. Use the following pieces of retrieved context to answer the question. If you don't know the answer, just say that you don't know. Use three sentences maximum and keep the answer concise.\\nQuestion: What is Task Decomposition? \\nContext: A notified body's cumulative competences shall be such as to enable it to assess the types of devices for which it is designated. The notified body shall have sufficient internal competence to critically evaluate assessments conducted by external expertise. Tasks which a notified body is precluded from subcontracting are set out in Section 4.1.\\n\\nPersonnel involved in the management of the operation of a notified body's conformity assessment activities for devices shall have appropriate knowledge to set up and operate a system for the selection of assessment and verification staff, for verification of their competence, for authorisation and allocation of their tasks, for organisation of their initial and ongoing training and for the assignment of their duties and the monitoring of those staff, in order to ensure that personnel who carry out and perform assessment and verification operations are competent to fulfil the tasks required of them.\\n\\n3.3.2. For all of its personnel referred to in Sections 3.2.3 to 3.2.7, the notified body shall establish and maintain up to date:\\n\\n— a matrix detailing the authorisations and responsibilities of the personnel in respect of conformity assessment activities; and\\n\\n— records attesting to the required knowledge and experience for the conformity assessment activity for which they are authorised. The records shall contain a rationale for defining the scope of the responsibilities for each of the assessment personnel and records of the conformity assessment activities carried out by each of them.\\n\\n3.4. Subcontractors and external experts\\n\\n3.4.1. Notified bodies may, without prejudice to Section 3.2, subcontract certain clearly defined component parts of a conformity assessment activity.\\n\\n9. The competent authorities shall actively participate in a procedure in order to coordinate their assessments referred to in paragraph 3 in the following cases:\\n\\n(a) where there is concern regarding a particular serious incident or cluster of serious incidents relating to the same device or type of device of the same manufacturer in more than one Member\\xa0State;\\n\\n(b) where the appropriateness of a field safety corrective action that is proposed by a manufacturer in more than one Member\\xa0State is in question.\\n\\nThat coordinated procedure shall cover the following:\\n\\n— designation of a coordinating competent authority on a case by case basis, when required;\\n\\n— defining the coordinated assessment process, including the tasks and responsibilities of the coordinating competent authority and the involvement of other competent authorities.\\n\\n(c) responsibility of the management;\\n\\n(d) resource management, including selection and control of suppliers and sub-contractors;\\n\\n(e) risk management as set out in in Section\\xa03 of Annex\\xa0I;\\n\\n(f) clinical evaluation in accordance with Article\\xa061 and Annex\\xa0XIV, including PMCF;\\n\\n(g) product realisation, including planning, design, development, production and service provision;\\n\\n(h) verification of the UDI assignments made in accordance with Article\\xa027(3) to all relevant devices and ensuring consistency and validity of information provided in accordance with Article\\xa029;\\n\\n(i) setting-up, implementation and maintenance of a post-market surveillance system, in accordance with Article\\xa083;\\n\\n(j) handling communication with competent authorities, notified bodies, other economic operators, customers and/or other stakeholders;\\n\\n(k) processes for reporting of serious incidents and field safety corrective actions in the context of vigilance;\\n\\nThe following activities may not be subcontracted by notified bodies:\\n\\n— review of the qualifications and monitoring of the performance of external experts;\\n\\n— auditing and certification activities where the subcontracting in question is to auditing or certification organisations;\\n\\n— allocation of work to external experts for specific conformity assessment activities; and\\n\\n— final review and decision making functions.\\n\\n3.4.2. Where a notified body subcontracts certain conformity assessment activities either to an organisation or an individual, it shall have a policy describing the conditions under which subcontracting may take place, and shall ensure that:\\n\\n— the subcontractor meets the relevant requirements of this Annex;\\n\\n— subcontractors and external experts do not further subcontract work to organisations or personnel; and\\n\\n— the natural or legal person that applied for conformity assessment has been informed of the requirements referred to in the first and second indent.\\n\\n4.4. Allocation of resources\\n\\nThe notified body shall have documented procedures to ensure that all conformity assessment activities are conducted by appropriately authorised and qualified personnel who are sufficiently experienced in the evaluation of the devices, systems and processes and related documentation that are subject to conformity assessment.\\n\\nFor each application, the notified body shall determine the resources needed and identify one individual responsible for ensuring that the assessment of that application is conducted in accordance with the relevant procedures and for ensuring that the appropriate resources including personnel are utilised for each of the tasks of the assessment. The allocation of tasks required to be carried out as part of the conformity assessment and any changes subsequently made to this allocation shall be documented.\\n\\n4.5. Conformity assessment activities\\n\\n4.5.1. General \\nAnswer:\", additional_kwargs={}, response_metadata={})])"
      ]
     },
     "execution_count": 26,
     "metadata": {},
     "output_type": "execute_result"
    }
   ],
   "source": [
    "from langchain_core.output_parsers import StrOutputParser\n",
    "from langchain_core.runnables import RunnablePassthrough\n",
    "\n",
    "\n",
    "def format_docs(docs):\n",
    "    return \"\\n\\n\".join(doc.page_content for doc in docs)\n",
    "\n",
    "\n",
    "rag_chain = (\n",
    "    {\"context\": retriever | format_docs, \"question\": RunnablePassthrough()}\n",
    "    | prompt\n",
    "    #| generator\n",
    "    #| StrOutputParser()\n",
    ")\n",
    "\n",
    "rag_chain.invoke(\"What is Task Decomposition?\")\n",
    "\n",
    "\n"
   ]
  },
  {
   "cell_type": "code",
   "execution_count": null,
   "metadata": {},
   "outputs": [],
   "source": []
  }
 ],
 "metadata": {
  "kernelspec": {
   "display_name": "TAAC_proj1",
   "language": "python",
   "name": "python3"
  },
  "language_info": {
   "codemirror_mode": {
    "name": "ipython",
    "version": 3
   },
   "file_extension": ".py",
   "mimetype": "text/x-python",
   "name": "python",
   "nbconvert_exporter": "python",
   "pygments_lexer": "ipython3",
   "version": "3.12.7"
  }
 },
 "nbformat": 4,
 "nbformat_minor": 2
}
