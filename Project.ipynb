{
 "cells": [
  {
   "cell_type": "markdown",
   "metadata": {},
   "source": [
    "# Building RAG Chatbots for Technical Documentation\n",
    "\n",
    "## Table of contents\n",
    "\n",
    "- [Introduction](#introduction)\n",
    "- [Environment Setup](#environment-setup)\n",
    "- [Load and split the document](#load-and-split-the-document)\n",
    "- [Generate and store the embeddings](#generate-and-store-the-embeddings)"
   ]
  },
  {
   "cell_type": "markdown",
   "metadata": {},
   "source": [
    "## Introduction \n",
    "\n",
    "This project involves implementing a retrieval augmented generation (RAG) with `LangChain` to create a chatbot for\n",
    "answering questions about technical documentation. The document chosen for this assignment was the following: The European Union Medical Device Regulation - Regulation (EU) 2017/745 (EU MDR). "
   ]
  },
  {
   "cell_type": "markdown",
   "metadata": {},
   "source": [
    "## Environment Setup\n",
    "\n",
    "Install the packages and dependencies to be used:"
   ]
  },
  {
   "cell_type": "code",
   "execution_count": 9,
   "metadata": {},
   "outputs": [
    {
     "name": "stdout",
     "output_type": "stream",
     "text": [
      "Note: you may need to restart the kernel to use updated packages.\n"
     ]
    }
   ],
   "source": [
    "# install langchain\n",
    "%pip install -qU langchain langchain-community langchain-chroma langchain-text-splitters unstructured sentence_transformers langchain-huggingface huggingface_hub pdfplumber"
   ]
  },
  {
   "cell_type": "markdown",
   "metadata": {},
   "source": [
    "## Load and split the document"
   ]
  },
  {
   "cell_type": "code",
   "execution_count": 2,
   "metadata": {},
   "outputs": [
    {
     "name": "stdout",
     "output_type": "stream",
     "text": [
      "page_content='02017R0745 — EN — 09.07.2024 — 004.001 — 1\n",
      "This text is meant purely as a documentation tool and has no legal effect. The Union's institutions do not assume any liability\n",
      "for its contents. The authentic versions of the relevant acts, including their preambles, are those published in the Official\n",
      "Journal of the European Union and available in EUR-Lex. Those official texts are directly accessible through the links\n",
      "embedded in this document\n",
      "►B REGULATION (EU) 2017/745 OF THE EUROPEAN PARLIAMENT AND OF THE COUNCIL\n",
      "of 5 April 2017\n",
      "on medical devices, amending Directive 2001/83/EC, Regulation (EC) No 178/2002 and\n",
      "Regulation (EC) No 1223/2009 and repealing Council Directives 90/385/EEC and 93/42/EEC\n",
      "(Text with EEA relevance)\n",
      "(OJ L 117, 5.5.2017, p. 1)\n",
      "Amended by:\n",
      "Official Journal\n",
      "No page date\n",
      "►M1 Regulation (EU) 2020/561 of the European Parliament and of the L 130 18 24.4.2020\n",
      "Council of 23 April 2020\n",
      "►M2 Commission Delegated Regulation (EU) 2023/502 of 1 December 2022 L 70 1 8.3.2023' metadata={'source': 'document.pdf', 'file_path': 'document.pdf', 'page': 0, 'total_pages': 232, 'ModDate': \"D:20240808025522+02'00'\", 'Producer': '3-Heights(TM) PDF to PDF-A Converter Shell 4.7.24.2 (http://www.pdf-tools.com)', 'Title': 'CL2017R0745EN0040010.0001.3bi_cp 1..1', 'Author': 'Publications Office', 'Subject': ' ', 'Creator': 'Arbortext Advanced Print Publisher 10.0.1465/W Unicode', 'CreationDate': \"D:20240724041003-07'00'\", 'start_index': 0}\n"
     ]
    }
   ],
   "source": [
    "# Using PDF document\n",
    "\n",
    "from langchain_text_splitters import RecursiveCharacterTextSplitter\n",
    "from langchain_community.document_loaders import PDFPlumberLoader\n",
    "\n",
    "loader = PDFPlumberLoader(\"document.pdf\")\n",
    "text_splitter = RecursiveCharacterTextSplitter(\n",
    "    chunk_size=1000, chunk_overlap=200, add_start_index=True\n",
    ")\n",
    "pages = loader.load_and_split(text_splitter)\n",
    "\n",
    "print(pages[0])\n"
   ]
  },
  {
   "cell_type": "markdown",
   "metadata": {},
   "source": [
    "## Generate and store the embeddings"
   ]
  },
  {
   "cell_type": "code",
   "execution_count": 3,
   "metadata": {},
   "outputs": [
    {
     "name": "stderr",
     "output_type": "stream",
     "text": [
      "c:\\Users\\Athos\\anaconda3\\envs\\TAAC_proj1\\Lib\\site-packages\\sentence_transformers\\cross_encoder\\CrossEncoder.py:13: TqdmExperimentalWarning: Using `tqdm.autonotebook.tqdm` in notebook mode. Use `tqdm.tqdm` instead to force console mode (e.g. in jupyter console)\n",
      "  from tqdm.autonotebook import tqdm, trange\n",
      "c:\\Users\\Athos\\anaconda3\\envs\\TAAC_proj1\\Lib\\site-packages\\transformers\\tokenization_utils_base.py:1617: FutureWarning: `clean_up_tokenization_spaces` was not set. It will be set to `True` by default. This behavior will be deprecated in transformers v4.45, and will be then set to `False` by default. For more details check this issue: https://github.com/huggingface/transformers/issues/31884\n",
      "  warnings.warn(\n"
     ]
    }
   ],
   "source": [
    "# Generate and store the embeddings\n",
    "from langchain_chroma import Chroma\n",
    "from langchain_huggingface.embeddings import HuggingFaceEmbeddings\n",
    "\n",
    "embeddings = HuggingFaceEmbeddings(model_name=\"sentence-transformers/all-mpnet-base-v2\")\n",
    "\n",
    "vectorstore = Chroma.from_documents(documents=pages, embedding=embeddings)\n"
   ]
  },
  {
   "cell_type": "markdown",
   "metadata": {},
   "source": [
    " ## Retrieve\n"
   ]
  },
  {
   "cell_type": "code",
   "execution_count": 34,
   "metadata": {},
   "outputs": [
    {
     "name": "stdout",
     "output_type": "stream",
     "text": [
      "page 16: management systems, risk management, post-market surveillance\n",
      "systems, clinical investigations, clinical evaluation or post-market\n",
      "clinical follow-up (‘PMCF’).\n",
      "References in this Regulation to harmonised standards shall be\n",
      "understood as meaning harmonised standards the references of which\n",
      "have been \n",
      "page 168: personnel is informed of, any relevant standardisation activities and in\n",
      "the activities of the notified body coordination group referred to in\n",
      "Article 49 and that its assessment and decision-making personnel are\n",
      "informed of all relevant legislation, guidance and best practice\n",
      "documents adopted in th\n",
      "page 147: (b) the method or methods used to demonstrate conformity with each\n",
      "applicable general safety and performance requirement;\n",
      "(c) the harmonised standards, CS or other solutions applied; and\n",
      "(d) the precise identity of the controlled documents offering evidence of\n",
      "conformity with each harmonised standar\n"
     ]
    }
   ],
   "source": [
    "retriever = vectorstore.as_retriever(search_type=\"similarity\", search_kwargs={\"k\": 3})\n",
    "\n",
    "retrieved_docs = retriever.invoke(\"Describe the use of harmonised standards\")\n",
    "\n",
    "for doc in retrieved_docs:\n",
    "    print(\"page \" + str(doc.metadata[\"page\"] + 1) + \":\", doc.page_content[:300])"
   ]
  },
  {
   "cell_type": "markdown",
   "metadata": {},
   "source": [
    "## LLM"
   ]
  },
  {
   "cell_type": "code",
   "execution_count": 33,
   "metadata": {},
   "outputs": [
    {
     "name": "stderr",
     "output_type": "stream",
     "text": [
      "c:\\Users\\Athos\\anaconda3\\envs\\TAAC_proj1\\Lib\\site-packages\\transformers\\tokenization_utils_base.py:1617: FutureWarning: `clean_up_tokenization_spaces` was not set. It will be set to `True` by default. This behavior will be deprecated in transformers v4.45, and will be then set to `False` by default. For more details check this issue: https://github.com/huggingface/transformers/issues/31884\n",
      "  warnings.warn(\n",
      "Truncation was not explicitly activated but `max_length` is provided a specific value, please use `truncation=True` to explicitly truncate examples to max length. Defaulting to 'longest_first' truncation strategy. If you encode pairs of sequences (GLUE-style) with the tokenizer you can select this strategy more precisely by providing a specific strategy to `truncation`.\n"
     ]
    },
    {
     "data": {
      "text/plain": [
       "[{'generated_text': 'Describe the use of harmonised standards:\\n\\nThis is an extremely important question—how can a large proportion of people who may not speak the'},\n",
       " {'generated_text': 'Describe the use of harmonised standards to encourage good use of the same product\\n\\n(2)Where there is a strong preference among experts in'},\n",
       " {'generated_text': \"Describe the use of harmonised standards, including the EU's 'Duke of Limbo' regulations as a 'guarantee that the countries\"},\n",
       " {'generated_text': 'Describe the use of harmonised standards, one based on international practice of the EU.\\n\\n1. A national harmonised standard: whether under'},\n",
       " {'generated_text': 'Describe the use of harmonised standards. I find that most of the information I have for a particular type of document has nothing to do with the'}]"
      ]
     },
     "execution_count": 33,
     "metadata": {},
     "output_type": "execute_result"
    }
   ],
   "source": [
    "from langchain_huggingface.llms import HuggingFacePipeline\n",
    "from transformers import pipeline, set_seed\n",
    "\n",
    "generator = pipeline('text-generation', model='gpt2', max_length=1000, pad_token_id=50256)\n",
    "\n",
    "llm = HuggingFacePipeline(pipeline=generator)\n",
    "\n",
    "set_seed(42)\n",
    "generator(\"Describe the use of harmonised standards\", max_length=30, num_return_sequences=5)\n"
   ]
  },
  {
   "cell_type": "markdown",
   "metadata": {},
   "source": [
    "## Generate"
   ]
  },
  {
   "cell_type": "code",
   "execution_count": 36,
   "metadata": {},
   "outputs": [
    {
     "name": "stdout",
     "output_type": "stream",
     "text": [
      "Use the following pieces of context to answer the question at the end.\n",
      "If you don't know the answer, just say that you don't know, don't try to make up an answer.\n",
      "Use three sentences maximum and keep the answer as concise as possible. Mention in which pages the answer is found.\n",
      "\n",
      "filler context\n",
      "\n",
      "Question: filler question\n",
      "\n",
      "Helpful Answer:\n"
     ]
    }
   ],
   "source": [
    "\n",
    "from langchain_core.prompts import PromptTemplate\n",
    "\n",
    "template = \"\"\"Use the following pieces of context to answer the question at the end.\n",
    "If you don't know the answer, just say that you don't know, don't try to make up an answer.\n",
    "Use three sentences maximum and keep the answer as concise as possible. Mention in which pages the answer is found.\n",
    "\n",
    "{context}\n",
    "\n",
    "Question: {question}\n",
    "\n",
    "Helpful Answer:\"\"\"\n",
    "prompt = PromptTemplate.from_template(template)\n",
    "\n",
    "\n",
    "example_messages = prompt.invoke(\n",
    "    {\"context\": \"filler context\", \"question\": \"filler question\"}\n",
    ").to_messages()\n",
    "example_messages\n",
    "\n",
    "print(example_messages[0].content)"
   ]
  },
  {
   "cell_type": "code",
   "execution_count": 37,
   "metadata": {},
   "outputs": [
    {
     "name": "stdout",
     "output_type": "stream",
     "text": [
      "Use the following pieces of context to answer the question at the end.\n",
      "If you don't know the answer, just say that you don't know, don't try to make up an answer.\n",
      "Use three sentences maximum and keep the answer as concise as possible. Mention in which pages the answer is found.\n",
      "\n",
      "Page 16:\n",
      "management systems, risk management, post-market surveillance\n",
      "systems, clinical investigations, clinical evaluation or post-market\n",
      "clinical follow-up (‘PMCF’).\n",
      "References in this Regulation to harmonised standards shall be\n",
      "understood as meaning harmonised standards the references of which\n",
      "have been published in the Official Journal of the European Union.\n",
      "\n",
      "Page 168:\n",
      "personnel is informed of, any relevant standardisation activities and in\n",
      "the activities of the notified body coordination group referred to in\n",
      "Article 49 and that its assessment and decision-making personnel are\n",
      "informed of all relevant legislation, guidance and best practice\n",
      "documents adopted in the framework of this Regulation.\n",
      "1.6.2. The notified body shall take into consideration guidance and best practice\n",
      "documents.\n",
      "2. QUALITY MANAGEMENT REQUIREMENTS\n",
      "2.1. The notified body shall establish, document, implement, maintain and\n",
      "operate a quality management system that is appropriate to the nature,\n",
      "area and scale of its conformity assessment activities and is capable of\n",
      "supporting and demonstrating the consistent fulfilment of the requirements\n",
      "of this Regulation.\n",
      "2.2. The quality management system of the notified body shall address at least\n",
      "the following:\n",
      "— management system structure and documentation, including policies\n",
      "and objectives for its activities;\n",
      "\n",
      "Page 147:\n",
      "(b) the method or methods used to demonstrate conformity with each\n",
      "applicable general safety and performance requirement;\n",
      "(c) the harmonised standards, CS or other solutions applied; and\n",
      "(d) the precise identity of the controlled documents offering evidence of\n",
      "conformity with each harmonised standard, CS or other method applied\n",
      "to demonstrate conformity with the general safety and performance\n",
      "requirements. The information referred to under this point shall incor­\n",
      "porate a cross-reference to the location of such evidence within the full\n",
      "technical documentation and, if applicable, the summary technical\n",
      "documentation.\n",
      "\n",
      "Question: Describe the use of harmonised standards\n",
      "\n",
      "Helpful Answer: As noted earlier Section 5, \"the use of principles referred to in this Regulation \"is\n",
      "\n",
      "to be used at the organisation or within an organisation where the use\n",
      "\n",
      "of principles has been established in accordance with its own standards.\n",
      "\n",
      "In particular the adoption of new harmonised standards may entail the\n",
      "\n",
      "transmission through a cross-agency of the health bodies whose standards\n",
      "\n",
      "are based on national norms, in-charge of which a representative committee is\n",
      "\n",
      "usually constituted.\n",
      "\n",
      "Article 50(2) of Regulation (EU) No 885/2003/EEC\n",
      "\n",
      "Article 50(2) of Regulation (EU) No 885/2003/EEC provides as follows:\n",
      "\n",
      "\"The establishment and implementation, operation and operation of each\n",
      "\n",
      "body's quality management system shall be based on a consistent, transparent and free-\n",
      "\n",
      "standing and transparent policy set out by the relevant and coordinated bodies of\n",
      "\n",
      "the body of health within the framework of this Regulation.\n",
      "\n",
      "\"If there is an important and inter-\n",
      "\n",
      "changeable, technical or organisational change, the provision\n",
      "\n",
      "shall be based on the use of appropriate, relevant and\n",
      "\n",
      "balanced evidence. It shall provide for the integration of relevant\n",
      "\n",
      "professional standards and with its own independent assessments.\n",
      "\n",
      "\"An organisation shall comply with the standards set to be\n",
      "\n",
      "used to assess the performance or non-performance of an organisation in respect of\n",
      "\n",
      "organisation or of employees at an organisation.\n",
      "\n",
      "\"This does not prejudice any of the relevant bodies,\n",
      "\n",
      "which may submit comments to the competent bodies of health in the\n",
      "\n",
      "following circumstances if necessary to fulfil their own\n",
      "\n",
      "responsibilities, with the intention that any comments may reflect their\n",
      "\n",
      "views on all matters concerning organisation or\n",
      "\n",
      "employees.\"\n",
      "\n",
      "1.6.3. The notified body shall, at a minimum and in order to\n",
      "\n",
      "appear credible (including if the notification party or agency considers not\n",
      "\n",
      "adequately qualified), include:\n",
      "\n",
      "a) technical analysis of the use of the systems and the use of the\n",
      "\n",
      "methods used to evaluate them; and\n",
      "\n",
      "b) a detailed description of the appropriate information on\n",
      "\n",
      "the use of these systems and the methods used to\n",
      "\n",
      "expose and test them.\n",
      "\n",
      "The notified body shall, in particular, include guidance\n",
      "\n",
      "and data in a clear and concise format containing:\n",
      "\n",
      "a) all documentation on the use of the systems, and any guidance\n",
      "\n",
      "\n"
     ]
    }
   ],
   "source": [
    "from langchain_core.output_parsers import StrOutputParser\n",
    "from langchain_core.runnables import RunnablePassthrough\n",
    "\n",
    "def format_docs(docs):\n",
    "    formatted_docs = []\n",
    "    for doc in docs:\n",
    "        page_number = doc.metadata[\"page\"] + 1 \n",
    "        content_with_page = f\"Page {page_number}:\\n{doc.page_content}\"\n",
    "        formatted_docs.append(content_with_page)\n",
    "    return \"\\n\\n\".join(formatted_docs)\n",
    "\n",
    "rag_chain = (\n",
    "    {\"context\": retriever | format_docs, \"question\": RunnablePassthrough()}\n",
    "    | prompt\n",
    "    | llm\n",
    "    | StrOutputParser()\n",
    ")\n",
    "\n",
    "print(rag_chain.invoke(\"Describe the use of harmonised standards\"))"
   ]
  }
 ],
 "metadata": {
  "kernelspec": {
   "display_name": "TAAC_proj1",
   "language": "python",
   "name": "python3"
  },
  "language_info": {
   "codemirror_mode": {
    "name": "ipython",
    "version": 3
   },
   "file_extension": ".py",
   "mimetype": "text/x-python",
   "name": "python",
   "nbconvert_exporter": "python",
   "pygments_lexer": "ipython3",
   "version": "3.12.7"
  }
 },
 "nbformat": 4,
 "nbformat_minor": 2
}
